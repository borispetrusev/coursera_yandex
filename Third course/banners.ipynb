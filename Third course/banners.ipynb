{
 "cells": [
  {
   "cell_type": "code",
   "execution_count": 1,
   "metadata": {
    "collapsed": true
   },
   "outputs": [],
   "source": [
    "dat = [i.strip().split(\"|\") for i in open (\"foursquare/checkins.dat\").readlines()]\n",
    "del dat[1]"
   ]
  },
  {
   "cell_type": "code",
   "execution_count": 2,
   "metadata": {
    "collapsed": true
   },
   "outputs": [],
   "source": [
    "import csv\n",
    "with open(\"checkins.csv\", 'wb') as f:\n",
    "    writer = csv.writer(f)\n",
    "    writer.writerows(dat)"
   ]
  },
  {
   "cell_type": "code",
   "execution_count": 3,
   "metadata": {},
   "outputs": [
    {
     "name": "stderr",
     "output_type": "stream",
     "text": [
      "/Users/borispetrusev/anaconda2/lib/python2.7/site-packages/IPython/core/interactiveshell.py:2718: DtypeWarning: Columns (0) have mixed types. Specify dtype option on import or set low_memory=False.\n",
      "  interactivity=interactivity, compiler=compiler, result=result)\n"
     ]
    }
   ],
   "source": [
    "import pandas as pd\n",
    "\n",
    "input_data = pd.read_csv(\"checkins.csv\")"
   ]
  },
  {
   "cell_type": "code",
   "execution_count": 4,
   "metadata": {},
   "outputs": [
    {
     "data": {
      "text/html": [
       "<div>\n",
       "<style>\n",
       "    .dataframe thead tr:only-child th {\n",
       "        text-align: right;\n",
       "    }\n",
       "\n",
       "    .dataframe thead th {\n",
       "        text-align: left;\n",
       "    }\n",
       "\n",
       "    .dataframe tbody tr th {\n",
       "        vertical-align: top;\n",
       "    }\n",
       "</style>\n",
       "<table border=\"1\" class=\"dataframe\">\n",
       "  <thead>\n",
       "    <tr style=\"text-align: right;\">\n",
       "      <th></th>\n",
       "      <th>id</th>\n",
       "      <th>user_id</th>\n",
       "      <th>venue_id</th>\n",
       "      <th>latitude</th>\n",
       "      <th>longitude</th>\n",
       "      <th>created_at</th>\n",
       "    </tr>\n",
       "  </thead>\n",
       "  <tbody>\n",
       "    <tr>\n",
       "      <th>0</th>\n",
       "      <td>984301</td>\n",
       "      <td>2041916.0</td>\n",
       "      <td>5222.0</td>\n",
       "      <td></td>\n",
       "      <td></td>\n",
       "      <td>2012-04-21 17:39:01</td>\n",
       "    </tr>\n",
       "    <tr>\n",
       "      <th>1</th>\n",
       "      <td>984222</td>\n",
       "      <td>15824.0</td>\n",
       "      <td>5222.0</td>\n",
       "      <td>38.8951118</td>\n",
       "      <td>-77.0363658</td>\n",
       "      <td>2012-04-21 17:43:47</td>\n",
       "    </tr>\n",
       "    <tr>\n",
       "      <th>2</th>\n",
       "      <td>984315</td>\n",
       "      <td>1764391.0</td>\n",
       "      <td>5222.0</td>\n",
       "      <td></td>\n",
       "      <td></td>\n",
       "      <td>2012-04-21 17:37:18</td>\n",
       "    </tr>\n",
       "    <tr>\n",
       "      <th>3</th>\n",
       "      <td>984234</td>\n",
       "      <td>44652.0</td>\n",
       "      <td>5222.0</td>\n",
       "      <td>33.800745</td>\n",
       "      <td>-84.41052</td>\n",
       "      <td>2012-04-21 17:43:43</td>\n",
       "    </tr>\n",
       "    <tr>\n",
       "      <th>4</th>\n",
       "      <td>984249</td>\n",
       "      <td>2146840.0</td>\n",
       "      <td>5222.0</td>\n",
       "      <td></td>\n",
       "      <td></td>\n",
       "      <td>2012-04-21 17:42:58</td>\n",
       "    </tr>\n",
       "  </tbody>\n",
       "</table>\n",
       "</div>"
      ],
      "text/plain": [
       "   id       user_id    venue_id        latitude             longitude       \\\n",
       "0  984301  2041916.0      5222.0                                             \n",
       "1  984222    15824.0      5222.0          38.8951118          -77.0363658    \n",
       "2  984315  1764391.0      5222.0                                             \n",
       "3  984234    44652.0      5222.0           33.800745            -84.41052    \n",
       "4  984249  2146840.0      5222.0                                             \n",
       "\n",
       "             created_at  \n",
       "0   2012-04-21 17:39:01  \n",
       "1   2012-04-21 17:43:47  \n",
       "2   2012-04-21 17:37:18  \n",
       "3   2012-04-21 17:43:43  \n",
       "4   2012-04-21 17:42:58  "
      ]
     },
     "execution_count": 4,
     "metadata": {},
     "output_type": "execute_result"
    }
   ],
   "source": [
    "input_data.head()"
   ]
  },
  {
   "cell_type": "code",
   "execution_count": 5,
   "metadata": {
    "collapsed": true
   },
   "outputs": [],
   "source": [
    "input_data.columns = ['id','user_id','venue_id','latitude','longitude','created_at']"
   ]
  },
  {
   "cell_type": "code",
   "execution_count": 6,
   "metadata": {
    "collapsed": true
   },
   "outputs": [],
   "source": [
    "input_data ['latitude'] = input_data['latitude'].str.strip()"
   ]
  },
  {
   "cell_type": "code",
   "execution_count": 7,
   "metadata": {},
   "outputs": [
    {
     "data": {
      "text/html": [
       "<div>\n",
       "<style>\n",
       "    .dataframe thead tr:only-child th {\n",
       "        text-align: right;\n",
       "    }\n",
       "\n",
       "    .dataframe thead th {\n",
       "        text-align: left;\n",
       "    }\n",
       "\n",
       "    .dataframe tbody tr th {\n",
       "        vertical-align: top;\n",
       "    }\n",
       "</style>\n",
       "<table border=\"1\" class=\"dataframe\">\n",
       "  <thead>\n",
       "    <tr style=\"text-align: right;\">\n",
       "      <th></th>\n",
       "      <th>id</th>\n",
       "      <th>user_id</th>\n",
       "      <th>venue_id</th>\n",
       "      <th>latitude</th>\n",
       "      <th>longitude</th>\n",
       "      <th>created_at</th>\n",
       "    </tr>\n",
       "  </thead>\n",
       "  <tbody>\n",
       "    <tr>\n",
       "      <th>0</th>\n",
       "      <td>984301</td>\n",
       "      <td>2041916.0</td>\n",
       "      <td>5222.0</td>\n",
       "      <td></td>\n",
       "      <td></td>\n",
       "      <td>2012-04-21 17:39:01</td>\n",
       "    </tr>\n",
       "    <tr>\n",
       "      <th>1</th>\n",
       "      <td>984222</td>\n",
       "      <td>15824.0</td>\n",
       "      <td>5222.0</td>\n",
       "      <td>38.8951118</td>\n",
       "      <td>-77.0363658</td>\n",
       "      <td>2012-04-21 17:43:47</td>\n",
       "    </tr>\n",
       "    <tr>\n",
       "      <th>2</th>\n",
       "      <td>984315</td>\n",
       "      <td>1764391.0</td>\n",
       "      <td>5222.0</td>\n",
       "      <td></td>\n",
       "      <td></td>\n",
       "      <td>2012-04-21 17:37:18</td>\n",
       "    </tr>\n",
       "    <tr>\n",
       "      <th>3</th>\n",
       "      <td>984234</td>\n",
       "      <td>44652.0</td>\n",
       "      <td>5222.0</td>\n",
       "      <td>33.800745</td>\n",
       "      <td>-84.41052</td>\n",
       "      <td>2012-04-21 17:43:43</td>\n",
       "    </tr>\n",
       "    <tr>\n",
       "      <th>4</th>\n",
       "      <td>984249</td>\n",
       "      <td>2146840.0</td>\n",
       "      <td>5222.0</td>\n",
       "      <td></td>\n",
       "      <td></td>\n",
       "      <td>2012-04-21 17:42:58</td>\n",
       "    </tr>\n",
       "  </tbody>\n",
       "</table>\n",
       "</div>"
      ],
      "text/plain": [
       "       id    user_id  venue_id    latitude            longitude  \\\n",
       "0  984301  2041916.0    5222.0                                    \n",
       "1  984222    15824.0    5222.0  38.8951118         -77.0363658    \n",
       "2  984315  1764391.0    5222.0                                    \n",
       "3  984234    44652.0    5222.0   33.800745           -84.41052    \n",
       "4  984249  2146840.0    5222.0                                    \n",
       "\n",
       "             created_at  \n",
       "0   2012-04-21 17:39:01  \n",
       "1   2012-04-21 17:43:47  \n",
       "2   2012-04-21 17:37:18  \n",
       "3   2012-04-21 17:43:43  \n",
       "4   2012-04-21 17:42:58  "
      ]
     },
     "execution_count": 7,
     "metadata": {},
     "output_type": "execute_result"
    }
   ],
   "source": [
    "input_data.head()"
   ]
  },
  {
   "cell_type": "code",
   "execution_count": 8,
   "metadata": {
    "collapsed": true
   },
   "outputs": [],
   "source": [
    "input_data = input_data[input_data['latitude']!=\"\"]"
   ]
  },
  {
   "cell_type": "code",
   "execution_count": 9,
   "metadata": {
    "collapsed": true
   },
   "outputs": [],
   "source": [
    "input_data = input_data.reset_index()"
   ]
  },
  {
   "cell_type": "code",
   "execution_count": 10,
   "metadata": {
    "collapsed": true
   },
   "outputs": [],
   "source": [
    "input_data = input_data[:-2]"
   ]
  },
  {
   "cell_type": "code",
   "execution_count": 11,
   "metadata": {},
   "outputs": [
    {
     "data": {
      "text/plain": [
       "396634"
      ]
     },
     "execution_count": 11,
     "metadata": {},
     "output_type": "execute_result"
    }
   ],
   "source": [
    "len(input_data)"
   ]
  },
  {
   "cell_type": "code",
   "execution_count": 12,
   "metadata": {
    "collapsed": true
   },
   "outputs": [],
   "source": [
    "input_data['longitude'] = input_data['longitude'].str.strip()"
   ]
  },
  {
   "cell_type": "code",
   "execution_count": 13,
   "metadata": {},
   "outputs": [
    {
     "data": {
      "text/plain": [
       "index           int64\n",
       "id             object\n",
       "user_id       float64\n",
       "venue_id      float64\n",
       "latitude       object\n",
       "longitude      object\n",
       "created_at     object\n",
       "dtype: object"
      ]
     },
     "execution_count": 13,
     "metadata": {},
     "output_type": "execute_result"
    }
   ],
   "source": [
    "input_data.dtypes"
   ]
  },
  {
   "cell_type": "code",
   "execution_count": 14,
   "metadata": {
    "collapsed": true
   },
   "outputs": [],
   "source": [
    "input_data[['latitude','longitude']] = input_data[['latitude','longitude']].apply(pd.to_numeric)"
   ]
  },
  {
   "cell_type": "code",
   "execution_count": 15,
   "metadata": {},
   "outputs": [
    {
     "data": {
      "text/html": [
       "<div>\n",
       "<style>\n",
       "    .dataframe thead tr:only-child th {\n",
       "        text-align: right;\n",
       "    }\n",
       "\n",
       "    .dataframe thead th {\n",
       "        text-align: left;\n",
       "    }\n",
       "\n",
       "    .dataframe tbody tr th {\n",
       "        vertical-align: top;\n",
       "    }\n",
       "</style>\n",
       "<table border=\"1\" class=\"dataframe\">\n",
       "  <thead>\n",
       "    <tr style=\"text-align: right;\">\n",
       "      <th></th>\n",
       "      <th>index</th>\n",
       "      <th>user_id</th>\n",
       "      <th>venue_id</th>\n",
       "      <th>latitude</th>\n",
       "      <th>longitude</th>\n",
       "    </tr>\n",
       "  </thead>\n",
       "  <tbody>\n",
       "    <tr>\n",
       "      <th>count</th>\n",
       "      <td>3.966340e+05</td>\n",
       "      <td>3.966340e+05</td>\n",
       "      <td>3.966340e+05</td>\n",
       "      <td>396634.000000</td>\n",
       "      <td>396634.000000</td>\n",
       "    </tr>\n",
       "    <tr>\n",
       "      <th>mean</th>\n",
       "      <td>4.964017e+05</td>\n",
       "      <td>5.641349e+05</td>\n",
       "      <td>1.327559e+05</td>\n",
       "      <td>37.097070</td>\n",
       "      <td>-86.354065</td>\n",
       "    </tr>\n",
       "    <tr>\n",
       "      <th>std</th>\n",
       "      <td>3.013401e+05</td>\n",
       "      <td>4.865694e+05</td>\n",
       "      <td>2.287003e+05</td>\n",
       "      <td>8.778760</td>\n",
       "      <td>37.983677</td>\n",
       "    </tr>\n",
       "    <tr>\n",
       "      <th>min</th>\n",
       "      <td>1.000000e+00</td>\n",
       "      <td>1.000000e+00</td>\n",
       "      <td>1.000000e+00</td>\n",
       "      <td>-75.250973</td>\n",
       "      <td>-159.670833</td>\n",
       "    </tr>\n",
       "    <tr>\n",
       "      <th>25%</th>\n",
       "      <td>2.315962e+05</td>\n",
       "      <td>1.692900e+05</td>\n",
       "      <td>7.620000e+03</td>\n",
       "      <td>33.800745</td>\n",
       "      <td>-111.926052</td>\n",
       "    </tr>\n",
       "    <tr>\n",
       "      <th>50%</th>\n",
       "      <td>4.941385e+05</td>\n",
       "      <td>4.298200e+05</td>\n",
       "      <td>2.830400e+04</td>\n",
       "      <td>39.099275</td>\n",
       "      <td>-85.758456</td>\n",
       "    </tr>\n",
       "    <tr>\n",
       "      <th>75%</th>\n",
       "      <td>7.578510e+05</td>\n",
       "      <td>8.496470e+05</td>\n",
       "      <td>1.485520e+05</td>\n",
       "      <td>40.802071</td>\n",
       "      <td>-74.056530</td>\n",
       "    </tr>\n",
       "    <tr>\n",
       "      <th>max</th>\n",
       "      <td>1.021964e+06</td>\n",
       "      <td>2.153361e+06</td>\n",
       "      <td>1.143011e+06</td>\n",
       "      <td>78.218590</td>\n",
       "      <td>178.424240</td>\n",
       "    </tr>\n",
       "  </tbody>\n",
       "</table>\n",
       "</div>"
      ],
      "text/plain": [
       "              index       user_id      venue_id       latitude      longitude\n",
       "count  3.966340e+05  3.966340e+05  3.966340e+05  396634.000000  396634.000000\n",
       "mean   4.964017e+05  5.641349e+05  1.327559e+05      37.097070     -86.354065\n",
       "std    3.013401e+05  4.865694e+05  2.287003e+05       8.778760      37.983677\n",
       "min    1.000000e+00  1.000000e+00  1.000000e+00     -75.250973    -159.670833\n",
       "25%    2.315962e+05  1.692900e+05  7.620000e+03      33.800745    -111.926052\n",
       "50%    4.941385e+05  4.298200e+05  2.830400e+04      39.099275     -85.758456\n",
       "75%    7.578510e+05  8.496470e+05  1.485520e+05      40.802071     -74.056530\n",
       "max    1.021964e+06  2.153361e+06  1.143011e+06      78.218590     178.424240"
      ]
     },
     "execution_count": 15,
     "metadata": {},
     "output_type": "execute_result"
    }
   ],
   "source": [
    "input_data.describe()"
   ]
  },
  {
   "cell_type": "code",
   "execution_count": 16,
   "metadata": {},
   "outputs": [
    {
     "name": "stdout",
     "output_type": "stream",
     "text": [
      "    latitude   longitude\n",
      "0  38.895112  -77.036366\n",
      "1  33.800745  -84.410520\n",
      "2  45.523452 -122.676207\n",
      "3  40.764462 -111.904565\n",
      "4  33.448377 -112.074037\n",
      "(100000, 2)\n"
     ]
    }
   ],
   "source": [
    "X = input_data[['latitude','longitude']][:100000]\n",
    "print(X.head())\n",
    "print(X.shape)"
   ]
  },
  {
   "cell_type": "code",
   "execution_count": 17,
   "metadata": {
    "collapsed": true
   },
   "outputs": [],
   "source": [
    "from sklearn.cluster import MeanShift\n",
    "import numpy as np"
   ]
  },
  {
   "cell_type": "code",
   "execution_count": 18,
   "metadata": {},
   "outputs": [
    {
     "data": {
      "text/plain": [
       "MeanShift(bandwidth=0.1, bin_seeding=False, cluster_all=True, min_bin_freq=1,\n",
       "     n_jobs=1, seeds=None)"
      ]
     },
     "execution_count": 18,
     "metadata": {},
     "output_type": "execute_result"
    }
   ],
   "source": [
    "bandwidth = 0.1\n",
    "ms = MeanShift(bandwidth=bandwidth)\n",
    "ms.fit(X)"
   ]
  },
  {
   "cell_type": "code",
   "execution_count": 19,
   "metadata": {},
   "outputs": [
    {
     "name": "stdout",
     "output_type": "stream",
     "text": [
      "3230\n"
     ]
    }
   ],
   "source": [
    "labels = ms.labels_\n",
    "cluster_centers = ms.cluster_centers_\n",
    "labels_unique = np.unique(labels)\n",
    "n_clusters = len(labels_unique)\n",
    "print(n_clusters)"
   ]
  },
  {
   "cell_type": "code",
   "execution_count": 22,
   "metadata": {
    "collapsed": true
   },
   "outputs": [],
   "source": [
    "X['cluster'] = labels"
   ]
  },
  {
   "cell_type": "code",
   "execution_count": 23,
   "metadata": {
    "collapsed": true
   },
   "outputs": [],
   "source": [
    "X['cluster_count'] = X.groupby('cluster')['cluster'].transform('count')"
   ]
  },
  {
   "cell_type": "code",
   "execution_count": 24,
   "metadata": {
    "collapsed": true
   },
   "outputs": [],
   "source": [
    "X_target = X[X['cluster_count']>15]"
   ]
  },
  {
   "cell_type": "code",
   "execution_count": 25,
   "metadata": {
    "collapsed": true
   },
   "outputs": [],
   "source": [
    "X_target.shape\n",
    "X_target = X_target.reset_index()"
   ]
  },
  {
   "cell_type": "code",
   "execution_count": 26,
   "metadata": {
    "collapsed": true
   },
   "outputs": [],
   "source": [
    "offices = pd.DataFrame([[33.751277, -118.188740],[25.867736, -80.324116],[51.503016, -0.075479],\n",
    "                       [52.378894, 4.885084],[39.366487, 117.036146],[-33.868457, 151.205134]])"
   ]
  },
  {
   "cell_type": "code",
   "execution_count": 27,
   "metadata": {},
   "outputs": [
    {
     "name": "stdout",
     "output_type": "stream",
     "text": [
      "    latitude   longitude\n",
      "0  33.751277 -118.188740\n",
      "1  25.867736  -80.324116\n",
      "2  51.503016   -0.075479\n",
      "3  52.378894    4.885084\n",
      "4  39.366487  117.036146\n",
      "5 -33.868457  151.205134\n"
     ]
    }
   ],
   "source": [
    "offices.columns=[['latitude','longitude']]\n",
    "print(offices)"
   ]
  },
  {
   "cell_type": "code",
   "execution_count": null,
   "metadata": {},
   "outputs": [],
   "source": [
    "large_clusters = X_target['cluster'].unique()\n",
    "print(len(large_clusters))\n",
    "cluster_centers = pd.DataFrame(cluster_centers)\n",
    "cluster_centers.columns = [['latitude','longitude']]\n",
    "cluster_centers['filter']=\"\""
   ]
  },
  {
   "cell_type": "code",
   "execution_count": 41,
   "metadata": {},
   "outputs": [
    {
     "name": "stderr",
     "output_type": "stream",
     "text": [
      "/Users/borispetrusev/anaconda2/lib/python2.7/site-packages/ipykernel_launcher.py:3: SettingWithCopyWarning: \n",
      "A value is trying to be set on a copy of a slice from a DataFrame\n",
      "\n",
      "See the caveats in the documentation: http://pandas.pydata.org/pandas-docs/stable/indexing.html#indexing-view-versus-copy\n",
      "  This is separate from the ipykernel package so we can avoid doing imports until\n"
     ]
    },
    {
     "name": "stdout",
     "output_type": "stream",
     "text": [
      "       latitude   longitude filter\n",
      "0     40.717716  -73.991835      1\n",
      "1     33.449438 -112.002140      1\n",
      "2     33.446380 -111.901888      1\n",
      "3     41.878244  -87.629843      1\n",
      "4     37.688682 -122.409330      1\n",
      "5     38.886165  -77.048783      1\n",
      "6     33.357345 -111.822654      1\n",
      "7     33.766636  -84.393289      1\n",
      "8     42.363219  -71.073688      1\n",
      "9     47.606245 -122.332044      1\n",
      "10    36.117229 -115.171073      1\n",
      "11    34.060398 -118.248709      1\n",
      "12    44.977948  -93.267301      1\n",
      "13    30.267184  -97.743119      1\n",
      "14    40.766876  -73.833353      1\n",
      "15    39.735830 -104.986580      1\n",
      "16    39.951680  -75.162736      1\n",
      "17    34.035487 -118.438998      1\n",
      "18    32.980893 -117.078118      1\n",
      "19    32.803021  -96.769897      1\n",
      "20    37.347871 -121.947287      1\n",
      "21    28.543502  -81.376429      1\n",
      "22    32.711344 -117.153639      1\n",
      "23    32.221713 -110.926535      1\n",
      "24    34.127402 -118.351884      1\n",
      "25    29.762698  -95.382314      1\n",
      "26    43.040533  -87.914333      1\n",
      "27    33.817306 -117.891249      1\n",
      "28    37.390292 -122.087286      1\n",
      "29    25.785812  -80.217938      1\n",
      "...         ...         ...    ...\n",
      "3200  41.671765  -72.949270       \n",
      "3201  43.637500  -94.102222       \n",
      "3202  41.148003 -102.973122       \n",
      "3203  30.799956  -81.689826       \n",
      "3204  48.905436    2.039499       \n",
      "3205  52.222484    5.483562       \n",
      "3206 -19.815731  -43.954223       \n",
      "3207  40.623399  -79.729771       \n",
      "3208  34.742908 -117.318703       \n",
      "3209  42.780640  -72.141749       \n",
      "3210  38.910067  -75.201229       \n",
      "3211  36.481464  -94.273264       \n",
      "3212  51.751530   -0.333892       \n",
      "3213  44.897500  -85.985278       \n",
      "3214  26.111840  -97.168126       \n",
      "3215  48.118146 -123.430741       \n",
      "3216  33.961124 -116.501678       \n",
      "3217  46.013007  -91.484621       \n",
      "3218  36.624595  -77.124688       \n",
      "3219  44.151902  -79.868329       \n",
      "3220  41.022823  -80.857834       \n",
      "3221  34.240840 -117.077260       \n",
      "3222  29.889066  -97.690262       \n",
      "3223  50.758120    3.312890       \n",
      "3224  49.879913 -119.449625       \n",
      "3225  -6.136240  106.140126       \n",
      "3226  44.959223  -70.153954       \n",
      "3227  46.732388 -117.000165       \n",
      "3228  29.689956  -95.899676       \n",
      "3229  31.378792  -95.321332       \n",
      "\n",
      "[3230 rows x 3 columns]\n"
     ]
    }
   ],
   "source": [
    "for i in range(0, len(cluster_centers)):\n",
    "    if i in large_clusters:\n",
    "        cluster_centers['filter'][i]=1\n",
    "print(cluster_centers)"
   ]
  },
  {
   "cell_type": "code",
   "execution_count": 44,
   "metadata": {},
   "outputs": [
    {
     "name": "stdout",
     "output_type": "stream",
     "text": [
      "(593, 3)\n"
     ]
    }
   ],
   "source": [
    "interesting_clusters = cluster_centers[cluster_centers['filter']==1]\n",
    "print(interesting_clusters.shape)"
   ]
  },
  {
   "cell_type": "code",
   "execution_count": 49,
   "metadata": {},
   "outputs": [
    {
     "name": "stdout",
     "output_type": "stream",
     "text": [
      "     index   latitude   longitude filter dist_0 dist_1 dist_2 dist_3 dist_4  \\\n",
      "0        0  40.717716  -73.991835      1                                      \n",
      "1        1  33.449438 -112.002140      1                                      \n",
      "2        2  33.446380 -111.901888      1                                      \n",
      "3        3  41.878244  -87.629843      1                                      \n",
      "4        4  37.688682 -122.409330      1                                      \n",
      "5        5  38.886165  -77.048783      1                                      \n",
      "6        6  33.357345 -111.822654      1                                      \n",
      "7        7  33.766636  -84.393289      1                                      \n",
      "8        8  42.363219  -71.073688      1                                      \n",
      "9        9  47.606245 -122.332044      1                                      \n",
      "10      10  36.117229 -115.171073      1                                      \n",
      "11      11  34.060398 -118.248709      1                                      \n",
      "12      12  44.977948  -93.267301      1                                      \n",
      "13      13  30.267184  -97.743119      1                                      \n",
      "14      14  40.766876  -73.833353      1                                      \n",
      "15      15  39.735830 -104.986580      1                                      \n",
      "16      16  39.951680  -75.162736      1                                      \n",
      "17      17  34.035487 -118.438998      1                                      \n",
      "18      18  32.980893 -117.078118      1                                      \n",
      "19      19  32.803021  -96.769897      1                                      \n",
      "20      20  37.347871 -121.947287      1                                      \n",
      "21      21  28.543502  -81.376429      1                                      \n",
      "22      22  32.711344 -117.153639      1                                      \n",
      "23      23  32.221713 -110.926535      1                                      \n",
      "24      24  34.127402 -118.351884      1                                      \n",
      "25      25  29.762698  -95.382314      1                                      \n",
      "26      26  43.040533  -87.914333      1                                      \n",
      "27      27  33.817306 -117.891249      1                                      \n",
      "28      28  37.390292 -122.087286      1                                      \n",
      "29      29  25.785812  -80.217938      1                                      \n",
      "..     ...        ...         ...    ...    ...    ...    ...    ...    ...   \n",
      "563    571  42.880643  -71.327286      1                                      \n",
      "564    573  43.685271  -79.759924      1                                      \n",
      "565    574  50.111512    8.680506      1                                      \n",
      "566    575  35.528078 -108.742584      1                                      \n",
      "567    576  36.825228 -119.702919      1                                      \n",
      "568    577  42.115474  -79.286368      1                                      \n",
      "569    578  43.680856  -72.287952      1                                      \n",
      "570    579  44.058173 -121.315310      1                                      \n",
      "571    580  43.096171  -88.402632      1                                      \n",
      "572    581  32.319940 -106.763654      1                                      \n",
      "573    582  41.641871  -88.051727      1                                      \n",
      "574    583  41.255845  -75.887471      1                                      \n",
      "575    584  60.169954   24.937730      1                                      \n",
      "576    586  42.765354  -78.782601      1                                      \n",
      "577    588  37.204643  -80.412689      1                                      \n",
      "578    589  37.270702  -76.707457      1                                      \n",
      "579    590   9.958968  -84.105633      1                                      \n",
      "580    592  41.634591  -72.635234      1                                      \n",
      "581    593  34.935238  -82.234904      1                                      \n",
      "582    594  42.059813  -70.951257      1                                      \n",
      "583    595  38.041182 -122.150053      1                                      \n",
      "584    608  30.408167  -86.528320      1                                      \n",
      "585    640  35.111360  -89.797982      1                                      \n",
      "586    663  41.486201  -70.597742      1                                      \n",
      "587    672  32.598960  -96.895365      1                                      \n",
      "588    703  41.577224  -73.415723      1                                      \n",
      "589    723  41.220398  -73.666619      1                                      \n",
      "590    898  41.618532  -88.445568      1                                      \n",
      "591   1268  38.658779  -76.885687      1                                      \n",
      "592   1278  39.249469  -77.182127      1                                      \n",
      "\n",
      "    dist_5  \n",
      "0           \n",
      "1           \n",
      "2           \n",
      "3           \n",
      "4           \n",
      "5           \n",
      "6           \n",
      "7           \n",
      "8           \n",
      "9           \n",
      "10          \n",
      "11          \n",
      "12          \n",
      "13          \n",
      "14          \n",
      "15          \n",
      "16          \n",
      "17          \n",
      "18          \n",
      "19          \n",
      "20          \n",
      "21          \n",
      "22          \n",
      "23          \n",
      "24          \n",
      "25          \n",
      "26          \n",
      "27          \n",
      "28          \n",
      "29          \n",
      "..     ...  \n",
      "563         \n",
      "564         \n",
      "565         \n",
      "566         \n",
      "567         \n",
      "568         \n",
      "569         \n",
      "570         \n",
      "571         \n",
      "572         \n",
      "573         \n",
      "574         \n",
      "575         \n",
      "576         \n",
      "577         \n",
      "578         \n",
      "579         \n",
      "580         \n",
      "581         \n",
      "582         \n",
      "583         \n",
      "584         \n",
      "585         \n",
      "586         \n",
      "587         \n",
      "588         \n",
      "589         \n",
      "590         \n",
      "591         \n",
      "592         \n",
      "\n",
      "[593 rows x 10 columns]\n"
     ]
    },
    {
     "name": "stderr",
     "output_type": "stream",
     "text": [
      "/Users/borispetrusev/anaconda2/lib/python2.7/site-packages/ipykernel_launcher.py:2: SettingWithCopyWarning: \n",
      "A value is trying to be set on a copy of a slice from a DataFrame.\n",
      "Try using .loc[row_indexer,col_indexer] = value instead\n",
      "\n",
      "See the caveats in the documentation: http://pandas.pydata.org/pandas-docs/stable/indexing.html#indexing-view-versus-copy\n",
      "  \n"
     ]
    }
   ],
   "source": [
    "for i in range(0, len(offices)):\n",
    "    interesting_clusters['dist_'+str(i)]=\"\"\n",
    "interesting_clusters = interesting_clusters.reset_index()\n",
    "print(interesting_clusters)"
   ]
  },
  {
   "cell_type": "code",
   "execution_count": 53,
   "metadata": {},
   "outputs": [
    {
     "name": "stderr",
     "output_type": "stream",
     "text": [
      "/Users/borispetrusev/anaconda2/lib/python2.7/site-packages/ipykernel_launcher.py:6: SettingWithCopyWarning: \n",
      "A value is trying to be set on a copy of a slice from a DataFrame\n",
      "\n",
      "See the caveats in the documentation: http://pandas.pydata.org/pandas-docs/stable/indexing.html#indexing-view-versus-copy\n",
      "  \n"
     ]
    }
   ],
   "source": [
    "import geopy.distance\n",
    "for i in range(0, len(interesting_clusters)):\n",
    "    for z in range(0, len(offices)):\n",
    "        coord_1 = (X_target['latitude'][i], X_target['longitude'][i])\n",
    "        coord_2 = (offices['latitude'][z], offices['longitude'][z])\n",
    "        interesting_clusters['dist_'+str(z)][i] = geopy.distance.vincenty(coord_1, coord_2).km"
   ]
  },
  {
   "cell_type": "code",
   "execution_count": 60,
   "metadata": {},
   "outputs": [
    {
     "name": "stdout",
     "output_type": "stream",
     "text": [
      "[6.518653168689608, 12.529974454236658, 3.538854552963338, 355.4910213749812, 889.8505917135872, 3.312987248260675]\n"
     ]
    },
    {
     "data": {
      "text/html": [
       "<div>\n",
       "<style>\n",
       "    .dataframe thead tr:only-child th {\n",
       "        text-align: right;\n",
       "    }\n",
       "\n",
       "    .dataframe thead th {\n",
       "        text-align: left;\n",
       "    }\n",
       "\n",
       "    .dataframe tbody tr th {\n",
       "        vertical-align: top;\n",
       "    }\n",
       "</style>\n",
       "<table border=\"1\" class=\"dataframe\">\n",
       "  <thead>\n",
       "    <tr style=\"text-align: right;\">\n",
       "      <th></th>\n",
       "      <th>index</th>\n",
       "      <th>latitude</th>\n",
       "      <th>longitude</th>\n",
       "      <th>filter</th>\n",
       "      <th>dist_0</th>\n",
       "      <th>dist_1</th>\n",
       "      <th>dist_2</th>\n",
       "      <th>dist_3</th>\n",
       "      <th>dist_4</th>\n",
       "      <th>dist_5</th>\n",
       "    </tr>\n",
       "  </thead>\n",
       "  <tbody>\n",
       "    <tr>\n",
       "      <th>410</th>\n",
       "      <td>413</td>\n",
       "      <td>-33.86063</td>\n",
       "      <td>151.204776</td>\n",
       "      <td>1</td>\n",
       "      <td>12050.1</td>\n",
       "      <td>15021.4</td>\n",
       "      <td>16983.7</td>\n",
       "      <td>16635.7</td>\n",
       "      <td>8836.78</td>\n",
       "      <td>3.31299</td>\n",
       "    </tr>\n",
       "  </tbody>\n",
       "</table>\n",
       "</div>"
      ],
      "text/plain": [
       "     index  latitude   longitude filter   dist_0   dist_1   dist_2   dist_3  \\\n",
       "410    413 -33.86063  151.204776      1  12050.1  15021.4  16983.7  16635.7   \n",
       "\n",
       "      dist_4   dist_5  \n",
       "410  8836.78  3.31299  "
      ]
     },
     "execution_count": 60,
     "metadata": {},
     "output_type": "execute_result"
    }
   ],
   "source": [
    "min_dist = []\n",
    "for i in range(0, len(offices)):\n",
    "    min_dist.append(min(interesting_clusters['dist_'+str(i)]))\n",
    "print(min_dist)\n",
    "min_dist_v = min(min_dist)\n",
    "interesting_clusters.loc[interesting_clusters['dist_5'] == min_dist_v]"
   ]
  }
 ],
 "metadata": {
  "kernelspec": {
   "display_name": "Python 2",
   "language": "python",
   "name": "python2"
  },
  "language_info": {
   "codemirror_mode": {
    "name": "ipython",
    "version": 2
   },
   "file_extension": ".py",
   "mimetype": "text/x-python",
   "name": "python",
   "nbconvert_exporter": "python",
   "pygments_lexer": "ipython2",
   "version": "2.7.13"
  }
 },
 "nbformat": 4,
 "nbformat_minor": 2
}
